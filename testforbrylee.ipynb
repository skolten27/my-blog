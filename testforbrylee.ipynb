{
 "cells": [
  {
   "cell_type": "code",
   "execution_count": 13,
   "metadata": {},
   "outputs": [],
   "source": [
    "import pandas as pd\n",
    "from selenium import webdriver\n",
    "from selenium.webdriver.chrome.service import Service as ChromeService\n",
    "from webdriver_manager.chrome import ChromeDriverManager\n",
    "from selenium.webdriver.common.by import By\n",
    "from selenium.webdriver.support.ui import WebDriverWait\n",
    "from selenium.webdriver.support import expected_conditions as EC\n",
    "import requests"
   ]
  },
  {
   "cell_type": "code",
   "execution_count": 2,
   "metadata": {},
   "outputs": [],
   "source": [
    "url = 'https://www.redfin.com/county/2918/UT/Utah-County'"
   ]
  },
  {
   "cell_type": "code",
   "execution_count": 17,
   "metadata": {},
   "outputs": [],
   "source": [
    "driver = webdriver.Chrome(service=ChromeService(ChromeDriverManager().install()))\n",
    "driver.get(url)"
   ]
  },
  {
   "cell_type": "code",
   "execution_count": 20,
   "metadata": {},
   "outputs": [],
   "source": [
    "driver.quit()"
   ]
  },
  {
   "cell_type": "code",
   "execution_count": 19,
   "metadata": {},
   "outputs": [
    {
     "data": {
      "text/plain": [
       "['$847,000',\n",
       " '$674,900',\n",
       " None,\n",
       " '$895,000',\n",
       " '$419,990',\n",
       " '$379,990',\n",
       " '$349,990',\n",
       " '$419,990',\n",
       " '$429,990',\n",
       " '$563,900',\n",
       " '$550,000',\n",
       " '$529,900',\n",
       " '$60,000',\n",
       " '$514,900',\n",
       " '$612,350',\n",
       " '$1,399,900',\n",
       " '$330,000',\n",
       " None,\n",
       " '$510,000',\n",
       " '$494,900',\n",
       " '$569,000',\n",
       " '$439,000',\n",
       " '$749,900',\n",
       " '$814,990',\n",
       " '$570,000',\n",
       " '$644,900',\n",
       " '$759,990',\n",
       " None,\n",
       " '$550,000',\n",
       " '$558,900',\n",
       " '$525,000',\n",
       " '$508,900',\n",
       " '$533,900',\n",
       " '$649,999',\n",
       " '$449,900',\n",
       " '$474,978',\n",
       " '$462,000',\n",
       " '$469,000',\n",
       " '$770,000',\n",
       " '$449,999',\n",
       " '$529,900',\n",
       " '$435,000',\n",
       " '$459,900']"
      ]
     },
     "execution_count": 19,
     "metadata": {},
     "output_type": "execute_result"
    }
   ],
   "source": [
    "prices = []\n",
    "container = driver.find_element(By.CLASS_NAME, 'HomeCardsContainer')\n",
    "all_homes = container.find_elements(By.CLASS_NAME, 'HomeCardContainer')\n",
    "for home in all_homes:\n",
    "    try:\n",
    "        price = home.find_element(By.CLASS_NAME, 'bp-Homecard__Price--value').text\n",
    "    except:\n",
    "        price = None\n",
    "    prices.append(price)\n",
    "\n",
    "prices"
   ]
  }
 ],
 "metadata": {
  "kernelspec": {
   "display_name": "classes24",
   "language": "python",
   "name": "python3"
  },
  "language_info": {
   "codemirror_mode": {
    "name": "ipython",
    "version": 3
   },
   "file_extension": ".py",
   "mimetype": "text/x-python",
   "name": "python",
   "nbconvert_exporter": "python",
   "pygments_lexer": "ipython3",
   "version": "3.12.5"
  }
 },
 "nbformat": 4,
 "nbformat_minor": 2
}
