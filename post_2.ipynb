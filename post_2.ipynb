{
 "cells": [
  {
   "cell_type": "code",
   "execution_count": 1,
   "metadata": {},
   "outputs": [],
   "source": [
    "import requests\n",
    "import pandas as pd"
   ]
  },
  {
   "cell_type": "code",
   "execution_count": 3,
   "metadata": {},
   "outputs": [],
   "source": [
    "with open('alpha_vantage_apikey.txt', 'r') as file:\n",
    "    apikey = file.read()"
   ]
  },
  {
   "cell_type": "code",
   "execution_count": null,
   "metadata": {},
   "outputs": [],
   "source": [
    "params = {\n",
    "        'function': 'EARNINGS',\n",
    "        'symbol': 'GME',\n",
    "        'datatype': 'json',\n",
    "        'apikey': apikey\n",
    "    }"
   ]
  },
  {
   "cell_type": "code",
   "execution_count": 5,
   "metadata": {},
   "outputs": [],
   "source": [
    "base_url = 'https://www.alphavantage.co/query?'"
   ]
  },
  {
   "cell_type": "code",
   "execution_count": 18,
   "metadata": {},
   "outputs": [
    {
     "data": {
      "text/html": [
       "<div>\n",
       "<style scoped>\n",
       "    .dataframe tbody tr th:only-of-type {\n",
       "        vertical-align: middle;\n",
       "    }\n",
       "\n",
       "    .dataframe tbody tr th {\n",
       "        vertical-align: top;\n",
       "    }\n",
       "\n",
       "    .dataframe thead th {\n",
       "        text-align: right;\n",
       "    }\n",
       "</style>\n",
       "<table border=\"1\" class=\"dataframe\">\n",
       "  <thead>\n",
       "    <tr style=\"text-align: right;\">\n",
       "      <th></th>\n",
       "      <th>fiscalDateEnding</th>\n",
       "      <th>reportedEPS</th>\n",
       "      <th>symbol</th>\n",
       "    </tr>\n",
       "  </thead>\n",
       "  <tbody>\n",
       "    <tr>\n",
       "      <th>0</th>\n",
       "      <td>2024-09-30</td>\n",
       "      <td>0.5</td>\n",
       "      <td>WEN</td>\n",
       "    </tr>\n",
       "    <tr>\n",
       "      <th>1</th>\n",
       "      <td>2023-12-31</td>\n",
       "      <td>0.97</td>\n",
       "      <td>WEN</td>\n",
       "    </tr>\n",
       "    <tr>\n",
       "      <th>2</th>\n",
       "      <td>2022-12-31</td>\n",
       "      <td>0.87</td>\n",
       "      <td>WEN</td>\n",
       "    </tr>\n",
       "    <tr>\n",
       "      <th>3</th>\n",
       "      <td>2021-12-31</td>\n",
       "      <td>0.82</td>\n",
       "      <td>WEN</td>\n",
       "    </tr>\n",
       "    <tr>\n",
       "      <th>4</th>\n",
       "      <td>2020-12-31</td>\n",
       "      <td>0.57</td>\n",
       "      <td>WEN</td>\n",
       "    </tr>\n",
       "    <tr>\n",
       "      <th>...</th>\n",
       "      <td>...</td>\n",
       "      <td>...</td>\n",
       "      <td>...</td>\n",
       "    </tr>\n",
       "    <tr>\n",
       "      <th>150</th>\n",
       "      <td>2009-01-31</td>\n",
       "      <td>0.09</td>\n",
       "      <td>CRM</td>\n",
       "    </tr>\n",
       "    <tr>\n",
       "      <th>151</th>\n",
       "      <td>2008-01-31</td>\n",
       "      <td>0.05</td>\n",
       "      <td>CRM</td>\n",
       "    </tr>\n",
       "    <tr>\n",
       "      <th>152</th>\n",
       "      <td>2007-01-31</td>\n",
       "      <td>0.07</td>\n",
       "      <td>CRM</td>\n",
       "    </tr>\n",
       "    <tr>\n",
       "      <th>153</th>\n",
       "      <td>2006-01-31</td>\n",
       "      <td>0.04</td>\n",
       "      <td>CRM</td>\n",
       "    </tr>\n",
       "    <tr>\n",
       "      <th>154</th>\n",
       "      <td>2005-01-31</td>\n",
       "      <td>0.0173</td>\n",
       "      <td>CRM</td>\n",
       "    </tr>\n",
       "  </tbody>\n",
       "</table>\n",
       "<p>155 rows × 3 columns</p>\n",
       "</div>"
      ],
      "text/plain": [
       "    fiscalDateEnding reportedEPS symbol\n",
       "0         2024-09-30         0.5    WEN\n",
       "1         2023-12-31        0.97    WEN\n",
       "2         2022-12-31        0.87    WEN\n",
       "3         2021-12-31        0.82    WEN\n",
       "4         2020-12-31        0.57    WEN\n",
       "..               ...         ...    ...\n",
       "150       2009-01-31        0.09    CRM\n",
       "151       2008-01-31        0.05    CRM\n",
       "152       2007-01-31        0.07    CRM\n",
       "153       2006-01-31        0.04    CRM\n",
       "154       2005-01-31      0.0173    CRM\n",
       "\n",
       "[155 rows x 3 columns]"
      ]
     },
     "execution_count": 18,
     "metadata": {},
     "output_type": "execute_result"
    }
   ],
   "source": [
    "all_earnings_data = []\n",
    "symbols = ['WEN', 'TSLA', 'AAPL', 'GOOG', 'AMZN', 'NFLX', 'CRM']\n",
    "\n",
    "for symbol in symbols:\n",
    "    params = {\n",
    "        'function': 'EARNINGS',\n",
    "        'symbol': symbol,\n",
    "        'datatype': 'json',\n",
    "        'apikey': apikey\n",
    "    }\n",
    "    results = requests.get(base_url, params=params)\n",
    "    if results.status_code == 200:\n",
    "        earnings_data = results.json().get('annualEarnings', [])\n",
    "        for entry in earnings_data:\n",
    "            entry['symbol'] = symbol\n",
    "        all_earnings_data.extend(earnings_data)\n",
    "    else:\n",
    "        print(f\"Failed to retrieve data for {symbol}\")\n",
    "\n",
    "earnings_df = pd.DataFrame(all_earnings_data)\n",
    "earnings_df"
   ]
  },
  {
   "cell_type": "code",
   "execution_count": 24,
   "metadata": {},
   "outputs": [
    {
     "ename": "TypeError",
     "evalue": "'str' object does not support item assignment",
     "output_type": "error",
     "traceback": [
      "\u001b[1;31m---------------------------------------------------------------------------\u001b[0m",
      "\u001b[1;31mTypeError\u001b[0m                                 Traceback (most recent call last)",
      "Cell \u001b[1;32mIn[24], line 15\u001b[0m\n\u001b[0;32m     13\u001b[0m     price_data \u001b[38;5;241m=\u001b[39m results\u001b[38;5;241m.\u001b[39mjson()\u001b[38;5;241m.\u001b[39mget(\u001b[38;5;124m'\u001b[39m\u001b[38;5;124mTime Series (Daily)\u001b[39m\u001b[38;5;124m'\u001b[39m, [])\n\u001b[0;32m     14\u001b[0m     \u001b[38;5;28;01mfor\u001b[39;00m entry \u001b[38;5;129;01min\u001b[39;00m price_data:\n\u001b[1;32m---> 15\u001b[0m        entry[\u001b[38;5;124m'\u001b[39m\u001b[38;5;124msymbol\u001b[39m\u001b[38;5;124m'\u001b[39m] \u001b[38;5;241m=\u001b[39m symbol\n\u001b[0;32m     16\u001b[0m     all_price_data\u001b[38;5;241m.\u001b[39mextend(earnings_data)\n\u001b[0;32m     17\u001b[0m \u001b[38;5;28;01melse\u001b[39;00m:\n",
      "\u001b[1;31mTypeError\u001b[0m: 'str' object does not support item assignment"
     ]
    }
   ],
   "source": [
    "all_price_data = []\n",
    "symbols = ['WEN', 'TSLA', 'AAPL', 'GOOG', 'AMZN', 'NFLX', 'CRM']\n",
    "\n",
    "for symbol in symbols:\n",
    "    params = {\n",
    "        'function': 'TIME_SERIES_DAILY',\n",
    "        'symbol': symbol,\n",
    "        'datatype': 'json',\n",
    "        'apikey': apikey\n",
    "    }\n",
    "    results = requests.get(base_url, params=params)\n",
    "    if results.status_code == 200:\n",
    "        price_data = results.json().get('Time Series (Daily)', [])\n",
    "        for entry in price_data:\n",
    "           entry['symbol'] = symbol\n",
    "        all_price_data.extend(earnings_data)\n",
    "    else:\n",
    "        print(f\"Failed to retrieve data for {symbol}\")\n",
    "\n",
    "price_df = pd.DataFrame(all_price_data)\n",
    "price_df"
   ]
  },
  {
   "cell_type": "code",
   "execution_count": 27,
   "metadata": {},
   "outputs": [
    {
     "data": {
      "text/plain": [
       "{'Information': 'Thank you for using Alpha Vantage! Our standard API rate limit is 25 requests per day. Please subscribe to any of the premium plans at https://www.alphavantage.co/premium/ to instantly remove all daily rate limits.'}"
      ]
     },
     "execution_count": 27,
     "metadata": {},
     "output_type": "execute_result"
    }
   ],
   "source": [
    "params = {\n",
    "        'function': 'TIME_SERIES_DAILY',\n",
    "        'symbol': 'CRM',\n",
    "        'datatype': 'json',\n",
    "        'apikey': apikey\n",
    "    }\n",
    "results = requests.get(base_url, params=params)\n",
    "price_data = results.json()\n",
    "price_data\n",
    "#price = price_data['Time Series (Daily)']\n",
    "#price_df = pd.DataFrame.from_dict(price)\n",
    "#price_df\n",
    "\n"
   ]
  }
 ],
 "metadata": {
  "kernelspec": {
   "display_name": "classes24",
   "language": "python",
   "name": "python3"
  },
  "language_info": {
   "codemirror_mode": {
    "name": "ipython",
    "version": 3
   },
   "file_extension": ".py",
   "mimetype": "text/x-python",
   "name": "python",
   "nbconvert_exporter": "python",
   "pygments_lexer": "ipython3",
   "version": "3.12.5"
  }
 },
 "nbformat": 4,
 "nbformat_minor": 2
}
